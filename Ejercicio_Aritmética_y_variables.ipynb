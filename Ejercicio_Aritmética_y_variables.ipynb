{
  "nbformat": 4,
  "nbformat_minor": 0,
  "metadata": {
    "colab": {
      "provenance": [],
      "authorship_tag": "ABX9TyMUtDsH7gXZpbQWrSCCsRVD",
      "include_colab_link": true
    },
    "kernelspec": {
      "name": "python3",
      "display_name": "Python 3"
    },
    "language_info": {
      "name": "python"
    }
  },
  "cells": [
    {
      "cell_type": "markdown",
      "metadata": {
        "id": "view-in-github",
        "colab_type": "text"
      },
      "source": [
        "<a href=\"https://colab.research.google.com/github/LGLV-LGLV/Intro_programacion/blob/main/Ejercicio_Aritm%C3%A9tica_y_variables.ipynb\" target=\"_parent\"><img src=\"https://colab.research.google.com/assets/colab-badge.svg\" alt=\"Open In Colab\"/></a>"
      ]
    },
    {
      "cell_type": "markdown",
      "source": [
        "# Aritmética y variables\n",
        "\n",
        "Este ejercicio le permitirá comenzar a ejecutar su propio código.\n",
        "Configure el cuaderno\n",
        "\n",
        "Para comenzar, ejecute el código en la siguiente celda.\n",
        "\n",
        "Comience haciendo clic dentro de la celda del código.\n",
        "Haga clic en el triángulo (con la forma de un \"botón de reproducción\") que aparece a la izquierda de la celda del código.\n",
        "Si su código se ejecutó correctamente, verá Configuración completa como resultado debajo de la celda.\n",
        "\n",
        "En lugar de hacer clic en el triángulo, también puede ejecutar el código presionando Shift + Enter en su teclado. ¡Pruébelo ahora! No ocurrirá nada malo si ejecuta el código más de una vez."
      ],
      "metadata": {
        "id": "nwXr-Wn3YsYB"
      }
    },
    {
      "cell_type": "markdown",
      "source": [
        "### Pregunta 1\n",
        "\n",
        "A continuación, ejecutará parte del código del tutorial para que pueda ver cómo funciona. Ejecute la siguiente celda de código sin cambios."
      ],
      "metadata": {
        "id": "DLD-pL3xaSse"
      }
    },
    {
      "cell_type": "code",
      "source": [
        "print(\"¡Hola mundo!\")"
      ],
      "metadata": {
        "id": "tOnxKf_oaR7T"
      },
      "execution_count": null,
      "outputs": []
    },
    {
      "cell_type": "markdown",
      "source": [
        "Acabas de ejecutar el código para imprimir ¡Hola mundo!, que deberías ver en el resultado anterior."
      ],
      "metadata": {
        "id": "IW2n9230aigi"
      }
    },
    {
      "cell_type": "markdown",
      "source": [
        "### Pregunta 2\n",
        "\n",
        "Ahora, imprimirá otro mensaje de su elección. Para ello, cambie print(\"¡Su mensaje aquí!\") para utilizar un mensaje diferente. Por ejemplo, puede cambiarlo a algo como:\n",
        "\n",
        "print(\"¡Buenos días!\")\n",
        "print(\"Estoy aprendiendo a codificar :D\")\n",
        "\n",
        "O puede ver qué sucede si escribe algo como print(\"3+4\"). ¿Devuelve 7 o simplemente piensa en \"3+4\" como otro mensaje más?\n",
        "\n",
        "Asegúrese de que su mensaje esté entre comillas (\") y que el mensaje en sí no utilice comillas. Por ejemplo, esto generará un error: print(\"Ella dijo \"gran trabajo\" y me dio un \"high-five!\") porque el mensaje contiene comillas. Si decide realizar el curso de Python después de completar este curso, aprenderá más sobre cómo evitar este error en la Lección 6.\n",
        "\n",
        "¡Siéntase libre de probar varios mensajes!"
      ],
      "metadata": {
        "id": "SSOZl5idbj3U"
      }
    },
    {
      "source": [
        "# TODO: Change the message\n",
        "print(\"¡Su mensaje aquí!\")"
      ],
      "cell_type": "code",
      "metadata": {
        "id": "3RJ47CdKZyel"
      },
      "execution_count": null,
      "outputs": []
    },
    {
      "cell_type": "markdown",
      "source": [
        "### Pregunta 3\n",
        "\n",
        "Como aprendiste en el tutorial, un comentario en Python tiene un signo de numeral (#) delante, que le indica a Python que ignore el texto que lo sigue.\n",
        "\n",
        "Poner un signo de numeral delante de una línea de código hará que Python ignore ese código. Por ejemplo, Python ignoraría esta línea y no aparecería nada en el resultado:\n",
        "\n",
        "* #print(1+2)\n",
        "\n",
        "Quitar el signo de numeral hará que puedas ejecutar el código nuevamente. Cuando eliminamos el signo de numeral delante de una línea de código, lo llamamos descomentar.\n",
        "\n",
        "En este problema, descomentarás dos líneas en la celda de código a continuación y verás el resultado:\n",
        "\n",
        "Elimina el # de suma. Para evitar errores, NO elimines el # delante de # Descomentar para ver la sugerencia.\n",
        "A continuación, elimina el # de print('El resultado de la suma es:', suma).\n"
      ],
      "metadata": {
        "id": "Hz_rrbqKdcaG"
      }
    },
    {
      "cell_type": "code",
      "source": [
        "# Descomentar para ver la sugerencia.\n",
        "\n",
        "# suma = 3+4\n",
        "print(suma)\n",
        "\n",
        "# Desconeta para ver el resultado.\n",
        "\n",
        "# print('El resultado de la suma es:', suma)"
      ],
      "metadata": {
        "id": "vo-PHFdrdg1_"
      },
      "execution_count": null,
      "outputs": []
    },
    {
      "cell_type": "markdown",
      "source": [
        "### Pregunta 4\n",
        "\n",
        "En el tutorial, definió varias variables para calcular la cantidad total de segundos en un año. Ejecute la siguiente celda de código para realizar el cálculo aquí."
      ],
      "metadata": {
        "id": "Y9D__mbfgJDE"
      }
    },
    {
      "cell_type": "code",
      "source": [
        "# Create variables\n",
        "num_years = 4\n",
        "days_per_year = 365\n",
        "hours_per_day = 24\n",
        "mins_per_hour = 60\n",
        "secs_per_min = 60\n",
        "\n",
        "# Calculate number of seconds in four years\n",
        "total_secs = secs_per_min * mins_per_hour * hours_per_day * days_per_year * num_years\n",
        "print(total_secs)"
      ],
      "metadata": {
        "id": "mgcM8w8yeph_"
      },
      "execution_count": null,
      "outputs": []
    },
    {
      "cell_type": "markdown",
      "source": [
        "Utilice la siguiente celda de código para:\n",
        "\n",
        "Defina una variable births_per_min y configúrela en 250. (En promedio, nacen 250 bebés cada minuto).\n",
        "Defina una variable births_per_day que contenga la cantidad promedio de bebés que nacen cada día. (Para establecer el valor de esta variable, debe utilizar births_per_min y algunas de las variables de la celda de código anterior)."
      ],
      "metadata": {
        "id": "UdVBD7Wmgb3X"
      }
    },
    {
      "cell_type": "code",
      "source": [
        "# TODO: Set the value of the births_per_min variable\n",
        "births_per_min = ___\n",
        "\n",
        "# TODO: Set the value of the births_per_day variable\n",
        "births_per_day = ___\n"
      ],
      "metadata": {
        "id": "KPtVNRNEen52"
      },
      "execution_count": null,
      "outputs": []
    },
    {
      "cell_type": "markdown",
      "source": [
        "### 🌶️ Pregunta 5\n",
        "\n",
        "(¡Las preguntas marcadas con un 🌶️ serán un poco más desafiantes que las demás! Recuerda que siempre puedes obtener una pista o ver la solución).\n",
        "\n",
        "La competencia Titanic es la competencia de ciencia de datos más famosa de Kaggle. En esta competencia, los participantes tienen el desafío de construir un modelo de aprendizaje automático que pueda predecir si los pasajeros sobrevivieron o no al naufragio del Titanic, en función de información como la edad, el sexo, el tamaño de la familia y el número de boleto.\n",
        "\n",
        "Ejecuta la siguiente celda de código sin cambios para cargar y obtener una vista previa de los datos del Titanic.\n",
        "\n",
        "No te preocupes por los detalles del código por ahora: el resultado final es simplemente que todos los datos del Titanic se han cargado en una variable llamada titanic_data. (Para aprender a escribir este código tú mismo, puedes tomar el curso de Python y luego el curso de Pandas).\n"
      ],
      "metadata": {
        "id": "kD7sGqM1hH_a"
      }
    },
    {
      "cell_type": "code",
      "source": [
        "import pandas as pd\n",
        "url = 'https://raw.githubusercontent.com/MicrosoftDocs/mslearn-introduction-to-machine-learning/main/Data/titanic.csv'\n",
        "titanic_data = pd.read_csv(url)\n",
        "titanic_data.head()"
      ],
      "metadata": {
        "id": "aDNkfEoDiQSe"
      },
      "execution_count": null,
      "outputs": []
    },
    {
      "cell_type": "markdown",
      "source": [
        "Los datos tienen una fila diferente para cada pasajero.\n",
        "\n",
        "La siguiente celda de código define e imprime los valores de tres variables:\n",
        "\n",
        "* total = número total de pasajeros que abordaron el barco\n",
        "* survivor = número de pasajeros que sobrevivieron al naufragio\n",
        "* minors = número de pasajeros menores de 18 años\n",
        "\n",
        "Ejecute la celda de código sin cambios. (No se preocupe por los detalles de cómo se calculan estas variables por ahora. Puede obtener más información sobre cómo calcular estos valores en el curso de Pandas)."
      ],
      "metadata": {
        "id": "iPmRsGPKi6-m"
      }
    },
    {
      "cell_type": "code",
      "source": [
        "# Number of total passengers\n",
        "total = len(titanic_data)\n",
        "print(total)\n",
        "\n",
        "# Number of passengers who survived\n",
        "survived = (titanic_data.Survived == 1).sum()\n",
        "print(survived)\n",
        "\n",
        "# Number of passengers under 18\n",
        "minors = (titanic_data.Age < 18).sum()\n",
        "print(minors)"
      ],
      "metadata": {
        "id": "pouqp6CFjTmo"
      },
      "execution_count": null,
      "outputs": []
    },
    {
      "cell_type": "markdown",
      "source": [
        "Por lo tanto,\n",
        "\n",
        "* total = 891 (había 891 pasajeros a bordo del Titanic),\n",
        "* survived = 342 (342 pasajeros sobrevivieron) y\n",
        "* minors = 113 (113 pasajeros eran menores de 18 años).\n",
        "\n",
        "En la celda de código a continuación, reemplace los guiones bajos (____) con código para calcular los valores de dos variables más:\n",
        "\n",
        "* survived_fraction debe configurarse como la fracción de pasajeros que sobrevivieron al desastre del Titanic.\n",
        "* minors_fraction debe ser la fracción de pasajeros que eran menores (menores de 18 años).\n",
        "\n",
        "Para cada variable, su respuesta debe ser un número entre 0 y 1."
      ],
      "metadata": {
        "id": "rAtGKKQVjJDc"
      }
    },
    {
      "cell_type": "code",
      "source": [
        "# TODO: Fill in the value of the survived_fraction variable\n",
        "survived_fraction = survived/total\n",
        "# Print the value of the variable\n",
        "print(survived_fraction)\n",
        "\n",
        "# TODO: Fill in the value of the minors_fraction variable\n",
        "minors_fraction = minors/total\n",
        "\n",
        "# Print the value of the variable\n",
        "print(minors_fraction)"
      ],
      "metadata": {
        "id": "hhqDQtuWjsLL"
      },
      "execution_count": null,
      "outputs": []
    },
    {
      "cell_type": "markdown",
      "source": [
        "debes obtener:\n",
        "\n",
        "* 0.3838383838383838\n",
        "* 0.12682379349046016\n",
        "\n",
        "De lo contrario, verifica tu codigo."
      ],
      "metadata": {
        "id": "x-vwib3vmCJ2"
      }
    }
  ]
}