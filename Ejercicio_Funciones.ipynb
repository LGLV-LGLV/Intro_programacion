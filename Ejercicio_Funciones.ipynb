{
  "nbformat": 4,
  "nbformat_minor": 0,
  "metadata": {
    "colab": {
      "provenance": [],
      "authorship_tag": "ABX9TyN0Y1FMuzmKcK5f8Q0M52oX",
      "include_colab_link": true
    },
    "kernelspec": {
      "name": "python3",
      "display_name": "Python 3"
    },
    "language_info": {
      "name": "python"
    }
  },
  "cells": [
    {
      "cell_type": "markdown",
      "metadata": {
        "id": "view-in-github",
        "colab_type": "text"
      },
      "source": [
        "<a href=\"https://colab.research.google.com/github/LGLV-LGLV/Intro_programacion/blob/main/Ejercicio_Funciones.ipynb\" target=\"_parent\"><img src=\"https://colab.research.google.com/assets/colab-badge.svg\" alt=\"Open In Colab\"/></a>"
      ]
    },
    {
      "cell_type": "markdown",
      "source": [
        "# Funciones\n",
        "En el tutorial aprendiste sobre funciones. En este ejercicio, ¡escribirás algunas de las tuyas!"
      ],
      "metadata": {
        "id": "zs1DLSKbyK3D"
      }
    },
    {
      "cell_type": "markdown",
      "source": [
        "### Pregunta 1\n",
        "\n",
        "En la competencia Precios de la vivienda: técnicas avanzadas de regresión, debes usar información como la cantidad de habitaciones y baños para predecir el precio de una casa. Inspirado por esta competencia, escribirás tu propia función para hacer esto.\n",
        "\n",
        "\n",
        "En la siguiente celda de código, crea una función costo_esperado() que tenga dos argumentos:\n",
        "\n",
        "\n",
        "* habitaciones: cantidad de habitaciones\n",
        "* baños: cantidad de baños\n",
        "\n",
        "Debe devolver el costo esperado de una casa con esa cantidad de habitaciones y baños. Supón que:\n",
        "\n",
        "el costo esperado para una casa con 0 habitaciones y 0 baños es 80000.\n",
        "cada habitación suma 30000 al costo esperado\n",
        "cada baño suma 10000 al costo esperado.\n",
        "\n",
        "Por ejemplo,\n",
        "\n",
        "* una casa con 1 habitación y 1 baño tiene un costo esperado de 120000, y\n",
        "* una casa con 2 habitaciones y 1 baño tiene un costo esperado de 150000."
      ],
      "metadata": {
        "id": "vNHmLhhaRzgK"
      }
    },
    {
      "cell_type": "code",
      "execution_count": 1,
      "metadata": {
        "id": "zjfLJUTByHhq"
      },
      "outputs": [],
      "source": []
    },
    {
      "cell_type": "code",
      "source": [],
      "metadata": {
        "id": "7DHKmguRSZAe"
      },
      "execution_count": null,
      "outputs": []
    },
    {
      "cell_type": "markdown",
      "source": [
        "### Pregunta 2\n",
        "\n",
        "Estás pensando en comprar una casa y quieres hacerte una idea de cuánto gastarás, en función de la cantidad de habitaciones y baños. Intentas decidir entre cuatro opciones diferentes:\n",
        "\n",
        "- Opción 1: casa con dos habitaciones y tres baños\n",
        "- Opción 2: casa con tres habitaciones y dos baños\n",
        "- Opción 3: casa con tres habitaciones y tres baños\n",
        "- Opción 4: casa con tres habitaciones y cuatro baños\n",
        "\n",
        "Usa la función costo_esperado() que definiste en la pregunta 1 para establecer:\n",
        "* option_1\n",
        "* option_2\n",
        "* option_3\n",
        "* option_4\n",
        "\n",
        "en el costo esperado de cada opción."
      ],
      "metadata": {
        "id": "-U3hp69LTIoK"
      }
    },
    {
      "cell_type": "code",
      "source": [],
      "metadata": {
        "id": "Y7QwmWajS_-q"
      },
      "execution_count": null,
      "outputs": []
    },
    {
      "cell_type": "markdown",
      "source": [
        "Pregunta 3\n",
        "\n",
        "Eres decorador de interiores y te gustaría usar Python para agilizar parte de tu trabajo. En concreto, estás creando una herramienta que pretendes utilizar para calcular el coste de pintar una habitación.\n",
        "\n",
        "Como primer paso, define una función get_cost() que tome como entrada:\n",
        "\n",
        "* sqft_walls = total de pies cuadrados de paredes a pintar\n",
        "* sqft_ceiling = pies cuadrados de techo a pintar\n",
        "* sqft_per_gallon = número de pies cuadrados que puedes cubrir con un galón de pintura\n",
        "* cost_per_gallon = coste (en dólares) de un galón de pintura\n",
        "\n",
        "Debería devolver el coste (en dólares) de poner una capa de pintura en todas las paredes y el techo. Supón que puedes comprar la cantidad exacta de pintura que necesitas, de modo que puedes comprar galones parciales (por ejemplo, si necesitas 7,523 galones, puedes comprar esa cantidad exacta, en lugar de tener que comprar 8 galones y desperdiciar algo de pintura). No redondees tu respuesta.\n"
      ],
      "metadata": {
        "id": "8QlZbFWCV6-i"
      }
    },
    {
      "cell_type": "code",
      "source": [],
      "metadata": {
        "id": "EsbYRhXKWfNq"
      },
      "execution_count": 15,
      "outputs": []
    },
    {
      "cell_type": "markdown",
      "source": [
        "### Pregunta 4\n",
        "\n",
        "Utilice la función get_cost() que definió en la pregunta 3 para calcular el costo de aplicar una capa de pintura a una habitación con:\n",
        "\n",
        "* 432 pies cuadrados de paredes y\n",
        "* 144 pies cuadrados de techo.\n",
        "\n",
        "Suponga que un galón de pintura cubre 400 pies cuadrados y cuesta $15. Como en la pregunta 3, suponga que puede comprar galones de pintura parciales. No redondee su respuesta."
      ],
      "metadata": {
        "id": "OTj4GH8DZ9nl"
      }
    },
    {
      "cell_type": "code",
      "source": [],
      "metadata": {
        "id": "U0BAPrxBZ85j"
      },
      "execution_count": null,
      "outputs": []
    },
    {
      "cell_type": "code",
      "source": [
        "import math"
      ],
      "metadata": {
        "id": "0BUCK_8kdXIl"
      },
      "execution_count": 25,
      "outputs": []
    },
    {
      "cell_type": "markdown",
      "source": [
        "# 🌶️ Pregunta 5\n",
        "\n",
        "Ahora digamos que ya no puedes comprar fracciones de galón. (Por ejemplo, si necesitas 4,3 galones para hacer un proyecto, entonces tienes que comprar 5 galones de pintura).\n",
        "\n",
        "Con este nuevo escenario, crearás una nueva función get_actual_cost que usa las mismas entradas y calcula el costo de tu proyecto.\n",
        "\n",
        "Una función que necesitarás usar para hacer esto es math.ceil(). Demostramos el uso de esta función en la celda de código a continuación. Toma un número como entrada y redondea el número al entero más cercano.\n",
        "\n",
        "Ejecuta la siguiente celda de código para probar esta función por ti mismo. No dudes en cambiar el valor de test_value y asegúrate de que math.ceil() devuelva el número que esperas."
      ],
      "metadata": {
        "id": "y6pU0jpcbBV6"
      }
    },
    {
      "cell_type": "code",
      "source": [
        "test_value = 2.17\n",
        "\n",
        "rounded_value = math.ceil(test_value)\n",
        "print(rounded_value)"
      ],
      "metadata": {
        "id": "ehkXEmSxguan"
      },
      "execution_count": null,
      "outputs": []
    },
    {
      "cell_type": "code",
      "source": [],
      "metadata": {
        "id": "KiiBuUu5bKM9"
      },
      "execution_count": 28,
      "outputs": []
    },
    {
      "cell_type": "code",
      "source": [],
      "metadata": {
        "id": "eI5aNH82bfJe"
      },
      "execution_count": null,
      "outputs": []
    },
    {
      "cell_type": "code",
      "source": [
        "get_actual_cost(432, 144, 400, 15)"
      ],
      "metadata": {
        "id": "SdP0kPFYgOQu"
      },
      "execution_count": null,
      "outputs": []
    },
    {
      "cell_type": "code",
      "source": [
        "get_actual_cost(594, 288, 400, 15)"
      ],
      "metadata": {
        "id": "Y742mPCqgT9M"
      },
      "execution_count": null,
      "outputs": []
    }
  ]
}